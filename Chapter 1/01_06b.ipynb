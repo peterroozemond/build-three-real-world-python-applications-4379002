{
 "cells": [
  {
   "cell_type": "markdown",
   "id": "ccc92e65",
   "metadata": {},
   "source": [
    "# Scraping Wisdom Pet Medicine Website"
   ]
  },
  {
   "cell_type": "markdown",
   "id": "ec84d27e",
   "metadata": {},
   "source": [
    "### Imports- **Run First**"
   ]
  },
  {
   "cell_type": "code",
   "execution_count": 5,
   "id": "32f3f74e",
   "metadata": {},
   "outputs": [],
   "source": [
    "#import requests packages\n",
    "import requests\n",
    "import pprint"
   ]
  },
  {
   "cell_type": "markdown",
   "id": "8213782f",
   "metadata": {},
   "source": [
    "### How to use the get method"
   ]
  },
  {
   "cell_type": "code",
   "execution_count": 2,
   "id": "ad6377ef",
   "metadata": {},
   "outputs": [
    {
     "data": {
      "text/plain": [
       "<Response [200]>"
      ]
     },
     "execution_count": 2,
     "metadata": {},
     "output_type": "execute_result"
    }
   ],
   "source": [
    "#scrape data from Wisdom Pet Medicine website\n",
    "requests.get('http://www.wisdompetmed.com/')"
   ]
  },
  {
   "cell_type": "code",
   "execution_count": 6,
   "id": "385021fc",
   "metadata": {},
   "outputs": [
    {
     "ename": "TypeError",
     "evalue": "'module' object is not callable",
     "output_type": "error",
     "traceback": [
      "\u001b[0;31m---------------------------------------------------------------------------\u001b[0m",
      "\u001b[0;31mTypeError\u001b[0m                                 Traceback (most recent call last)",
      "Cell \u001b[0;32mIn[6], line 3\u001b[0m\n\u001b[1;32m      1\u001b[0m \u001b[39m#scrape data from Wisdom Pet Medicine website and save to response variable\u001b[39;00m\n\u001b[1;32m      2\u001b[0m response\u001b[39m=\u001b[39mrequests\u001b[39m.\u001b[39mget(\u001b[39m'\u001b[39m\u001b[39mhttp://www.wisdompetmed.com/\u001b[39m\u001b[39m'\u001b[39m)\n\u001b[0;32m----> 3\u001b[0m pprint(response)\n",
      "\u001b[0;31mTypeError\u001b[0m: 'module' object is not callable"
     ]
    }
   ],
   "source": [
    "#scrape data from Wisdom Pet Medicine website and save to response variable\n",
    "response=requests.get('http://www.wisdompetmed.com/')\n",
    "pprint(response)\n"
   ]
  }
 ],
 "metadata": {
  "kernelspec": {
   "display_name": "Python 3 (ipykernel)",
   "language": "python",
   "name": "python3"
  },
  "language_info": {
   "codemirror_mode": {
    "name": "ipython",
    "version": 3
   },
   "file_extension": ".py",
   "mimetype": "text/x-python",
   "name": "python",
   "nbconvert_exporter": "python",
   "pygments_lexer": "ipython3",
   "version": "3.10.8"
  }
 },
 "nbformat": 4,
 "nbformat_minor": 5
}
